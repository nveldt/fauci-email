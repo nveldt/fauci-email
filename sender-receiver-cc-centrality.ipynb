{
 "cells": [
  {
   "cell_type": "code",
   "execution_count": 1,
   "metadata": {},
   "outputs": [],
   "source": [
    "import numpy as np\n",
    "import json"
   ]
  },
  {
   "cell_type": "code",
   "execution_count": 2,
   "metadata": {},
   "outputs": [],
   "source": [
    "with open(\"fauci-email-graph-2.json\") as f:\n",
    "    data = json.loads(f.read())"
   ]
  },
  {
   "cell_type": "code",
   "execution_count": 3,
   "metadata": {},
   "outputs": [
    {
     "name": "stdout",
     "output_type": "stream",
     "text": [
      "44 nodes in SCC\n"
     ]
    }
   ],
   "source": [
    "emails = data[\"emails\"]\n",
    "names = data[\"names\"]\n",
    "\n",
    "keep = set(range(len(names) + 1))\n",
    "while True:\n",
    "    inds = []\n",
    "    all_s = []\n",
    "    all_r = []\n",
    "    all_c = []\n",
    "\n",
    "    for chain in emails:\n",
    "        for email in chain:\n",
    "            s = email[\"sender\"]            \n",
    "            if s not in keep: continue\n",
    "            \n",
    "            recipients = [r for r in email[\"recipients\"] if r in keep]\n",
    "            ccs = [c for c in email[\"cc\"] if c in keep]\n",
    "            \n",
    "            num_inds = len(recipients) * len(ccs)\n",
    "            if num_inds == 0: continue\n",
    "        \n",
    "            all_s.append(s)\n",
    "            for r in recipients: all_r.append(r)\n",
    "            for c in ccs: all_c.append(c)\n",
    "        \n",
    "            for r in recipients:\n",
    "                for c in ccs:\n",
    "                    inds.append((s, r, c, 1.0 / num_inds))\n",
    "                    \n",
    "    new_keep = set(all_s).intersection(set(all_r)).intersection(set(all_c))\n",
    "    no_updates = (new_keep == keep)\n",
    "    keep = new_keep\n",
    "    if no_updates or len(new_keep) == 0:\n",
    "        break\n",
    "    else:\n",
    "        keep = new_keep\n",
    "print(len(keep), \"nodes in SCC\")"
   ]
  },
  {
   "cell_type": "code",
   "execution_count": 4,
   "metadata": {},
   "outputs": [],
   "source": [
    "clean_names = [names[k] for k in keep]\n",
    "id_map = {k : i for (i, k) in enumerate(keep)}\n",
    "rev_id_map = {i : k for (i, k) in enumerate(keep)}\n",
    "clean_inds = [(id_map[s], id_map[r], id_map[c], v) for (s, r, c, v) in inds]"
   ]
  },
  {
   "cell_type": "code",
   "execution_count": 5,
   "metadata": {},
   "outputs": [
    {
     "name": "stdout",
     "output_type": "stream",
     "text": [
      "converged 20 9.106402192840708e-07\n"
     ]
    }
   ],
   "source": [
    "x_curr = np.random.rand(len(keep))\n",
    "x_curr /= np.sum(x_curr)\n",
    "max_iters = 10000\n",
    "tol = 1e-6\n",
    "compute_hec = True  # if False, computes Z-eigenvector centrality\n",
    "\n",
    "for i in range(max_iters):\n",
    "    x_next = np.zeros(len(x_curr))\n",
    "    for (s, r, c, v) in clean_inds:\n",
    "        x_next[c] += v * x_curr[r] * x_curr[s]\n",
    "\n",
    "    if compute_hec:\n",
    "        x_next = np.sqrt(x_next)\n",
    "    \n",
    "    x_next /= np.sum(x_next)    \n",
    "    diff = np.linalg.norm(x_next - x_curr, ord=1)\n",
    "    x_curr = x_next\n",
    "    if diff < tol: \n",
    "        print(\"converged\", i, diff)\n",
    "        break\n",
    "    \n",
    "    if i == max_iters - 1:\n",
    "        print(\"did not converge\")"
   ]
  },
  {
   "cell_type": "code",
   "execution_count": 6,
   "metadata": {},
   "outputs": [
    {
     "name": "stdout",
     "output_type": "stream",
     "text": [
      "1 conrad, patricia\n",
      "2 folkers, greg\n",
      "3 billet, courtney\n",
      "4 routh, jennifer\n",
      "5 stover, kathy\n",
      "6 marston, hilary\n",
      "7 haskins, melinda\n",
      "8 tabak, lawrence\n",
      "9 fauci, anthony\n",
      "10 mascola, john\n",
      "11 antoniak, cynthia\n",
      "12 lerner, andrea\n",
      "13 lane, cliff\n",
      "14 collins, francis\n",
      "15 crawford, chase\n",
      "16 burklow, john\n",
      "17 pau, alice\n",
      "18 myles, renate\n",
      "19 selgrade, sara\n",
      "20 schwetz, tara\n",
      "21 goldner, shannah\n",
      "22 cassetti, cristina\n",
      "23 handley, gray\n",
      "24 graham, barney\n",
      "25 stecker, judy\n",
      "26 zebley, kyle\n",
      "27 kerr, lawrence\n",
      "28 hall, bill\n",
      "29 fine, amanda\n",
      "30 grigsby, garrett\n",
      "31 cetron, marty\n",
      "32 fritz, craig\n",
      "33 mellors, john w\n",
      "34 lepore, loretta\n",
      "35 harper, jill\n",
      "36 johnson, martin\n",
      "37 oakley, caitlin b\n",
      "38 schneider, johanna\n",
      "39 kadlec, robert\n",
      "40 bright, rick\n",
      "41 farrar, jeremey\n",
      "42 galatas, kate\n",
      "43 brennan, patrick\n",
      "44 andersen, kristian\n"
     ]
    }
   ],
   "source": [
    "sp = np.argsort(-x_curr)\n",
    "for (i, ind) in enumerate(sp):\n",
    "    print(i + 1, clean_names[ind])"
   ]
  },
  {
   "cell_type": "code",
   "execution_count": 7,
   "metadata": {},
   "outputs": [
    {
     "name": "stdout",
     "output_type": "stream",
     "text": [
      "textcolor{LightGray}{1} & conrad, patricia, 0.123106 \\\\\n",
      "textcolor{LightGray}{2} & folkers, greg, 0.095163 \\\\\n",
      "textcolor{LightGray}{3} & billet, courtney, 0.075963 \\\\\n",
      "textcolor{LightGray}{4} & routh, jennifer, 0.064585 \\\\\n",
      "textcolor{LightGray}{5} & stover, kathy, 0.061403 \\\\\n",
      "textcolor{LightGray}{6} & marston, hilary, 0.055949 \\\\\n",
      "textcolor{LightGray}{7} & haskins, melinda, 0.043622 \\\\\n",
      "textcolor{LightGray}{8} & tabak, lawrence, 0.043443 \\\\\n",
      "textcolor{LightGray}{9} & fauci, anthony, 0.037472 \\\\\n",
      "textcolor{LightGray}{10} & mascola, john, 0.034682 \\\\\n"
     ]
    }
   ],
   "source": [
    "top_n = 10\n",
    "for (i, ind) in enumerate(sp[:top_n]):\n",
    "    print(f'textcolor{{LightGray}}{{{i + 1}}} & {clean_names[ind]}, {x_curr[ind]:.6f} \\\\\\\\')"
   ]
  },
  {
   "cell_type": "code",
   "execution_count": 8,
   "metadata": {},
   "outputs": [
    {
     "data": {
      "text/plain": [
       "(44, 1413)"
      ]
     },
     "execution_count": 8,
     "metadata": {},
     "output_type": "execute_result"
    }
   ],
   "source": [
    "len(keep), len(clean_inds)"
   ]
  },
  {
   "cell_type": "code",
   "execution_count": null,
   "metadata": {},
   "outputs": [],
   "source": []
  }
 ],
 "metadata": {
  "kernelspec": {
   "display_name": "Python 3",
   "language": "python",
   "name": "python3"
  },
  "language_info": {
   "codemirror_mode": {
    "name": "ipython",
    "version": 3
   },
   "file_extension": ".py",
   "mimetype": "text/x-python",
   "name": "python",
   "nbconvert_exporter": "python",
   "pygments_lexer": "ipython3",
   "version": "3.8.2"
  }
 },
 "nbformat": 4,
 "nbformat_minor": 4
}
