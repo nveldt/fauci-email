{
 "cells": [
  {
   "cell_type": "code",
   "execution_count": 8,
   "metadata": {},
   "outputs": [
    {
     "name": "stdout",
     "output_type": "stream",
     "text": [
      "size(H) = (15, 100)\n"
     ]
    },
    {
     "data": {
      "text/plain": [
       "(15, 100)"
      ]
     },
     "execution_count": 8,
     "metadata": {},
     "output_type": "execute_result"
    }
   ],
   "source": [
    "using MAT\n",
    "hypergraph = \"Zoo.mat\"\n",
    "hypergraph = \"Cities.mat\"\n",
    "hypergraph = \"Amazon_Amazon_Fashion.mat\"\n",
    "hypergraph = \"Zoo.mat\"\n",
    "D = matread(hypergraph)\n",
    "H=  D[\"H\"]\n",
    "@show size(H)"
   ]
  },
  {
   "cell_type": "code",
   "execution_count": 10,
   "metadata": {},
   "outputs": [
    {
     "ename": "UndefVarError",
     "evalue": "UndefVarError: NodeNames not defined",
     "output_type": "error",
     "traceback": [
      "UndefVarError: NodeNames not defined",
      "",
      "Stacktrace:",
      " [1] top-level scope at In[10]:2"
     ]
    }
   ],
   "source": [
    "H =H[:,1:20]\n",
    "NodeNames = D[\"NodeNames\"][1:20]\n",
    "NodeLabels = D[\"NodeLabels\"][1:20]"
   ]
  },
  {
   "cell_type": "code",
   "execution_count": null,
   "metadata": {},
   "outputs": [],
   "source": []
  },
  {
   "cell_type": "code",
   "execution_count": 9,
   "metadata": {},
   "outputs": [
    {
     "data": {
      "text/plain": [
       "Dict{String,Any} with 5 entries:\n",
       "  \"NodeLabels\" => [1, 1, 4, 1, 1, 1, 1, 4, 4, 1  …  3, 4, 1, 1, 2, 1, 6, 1, 7, …\n",
       "  \"NodeNames\"  => Any[\"aardvark\", \"antelope\", \"bass\", \"bear\", \"boar\", \"buffalo\"…\n",
       "  \"order\"      => [43, 20, 58, 41, 24, 35, 55, 60, 82, 79, 8, 17, 75, 13, 44]\n",
       "  \"H\"          => …\n",
       "  \"d\"          => [7.0, 7.0, 7.0, 7.0, 8.0, 7.0, 8.0, 7.0, 7.0, 6.0  …  6.0, 8.…"
      ]
     },
     "execution_count": 9,
     "metadata": {},
     "output_type": "execute_result"
    }
   ],
   "source": [
    "D"
   ]
  },
  {
   "cell_type": "code",
   "execution_count": null,
   "metadata": {},
   "outputs": [],
   "source": []
  },
  {
   "cell_type": "code",
   "execution_count": null,
   "metadata": {},
   "outputs": [],
   "source": []
  },
  {
   "cell_type": "code",
   "execution_count": null,
   "metadata": {},
   "outputs": [],
   "source": []
  },
  {
   "cell_type": "code",
   "execution_count": null,
   "metadata": {},
   "outputs": [],
   "source": []
  },
  {
   "cell_type": "code",
   "execution_count": null,
   "metadata": {},
   "outputs": [],
   "source": []
  },
  {
   "cell_type": "code",
   "execution_count": null,
   "metadata": {},
   "outputs": [],
   "source": []
  }
 ],
 "metadata": {
  "kernelspec": {
   "display_name": "Julia 1.3.1",
   "language": "julia",
   "name": "julia-1.3"
  },
  "language_info": {
   "file_extension": ".jl",
   "mimetype": "application/julia",
   "name": "julia",
   "version": "1.3.1"
  }
 },
 "nbformat": 4,
 "nbformat_minor": 4
}
