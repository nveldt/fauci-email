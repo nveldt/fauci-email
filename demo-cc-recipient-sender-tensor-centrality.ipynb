{
 "cells": [
  {
   "cell_type": "code",
   "execution_count": 1,
   "metadata": {},
   "outputs": [],
   "source": [
    "import numpy as np\n",
    "import json"
   ]
  },
  {
   "cell_type": "code",
   "execution_count": 2,
   "metadata": {},
   "outputs": [],
   "source": [
    "with open('cc-recipient-sender-tensor.json') as f:\n",
    "    tensor = json.loads(f.read())\n",
    "entries = tensor[\"entries\"]\n",
    "names = tensor[\"names\"]"
   ]
  },
  {
   "cell_type": "code",
   "execution_count": 3,
   "metadata": {},
   "outputs": [
    {
     "name": "stdout",
     "output_type": "stream",
     "text": [
      "converged 23 5.777809261881678e-07\n"
     ]
    }
   ],
   "source": [
    "np.random.seed(1234)\n",
    "x_curr = np.random.rand(len(names))\n",
    "x_curr /= np.sum(x_curr)\n",
    "max_iters = 10000\n",
    "tol = 1e-6\n",
    "compute_hec = True  # if False, computes Z-eigenvector centrality\n",
    "\n",
    "for i in range(max_iters):\n",
    "    x_next = np.zeros(len(x_curr))\n",
    "    for (c, r, s, v) in entries:\n",
    "        x_next[c] += v * x_curr[r] * x_curr[s]\n",
    "\n",
    "    if compute_hec:\n",
    "        x_next = np.sqrt(x_next)\n",
    "    \n",
    "    x_next /= np.sum(x_next)    \n",
    "    diff = np.linalg.norm(x_next - x_curr, ord=1)\n",
    "    x_curr = x_next\n",
    "    if diff < tol: \n",
    "        print(\"converged\", i, diff)\n",
    "        break\n",
    "    \n",
    "    if i == max_iters - 1:\n",
    "        print(\"did not converge\")"
   ]
  },
  {
   "cell_type": "code",
   "execution_count": 4,
   "metadata": {},
   "outputs": [
    {
     "name": "stdout",
     "output_type": "stream",
     "text": [
      "textcolor{LightGray}{1} & conrad, patricia, 0.123106 \\\\\n",
      "textcolor{LightGray}{2} & folkers, greg, 0.095163 \\\\\n",
      "textcolor{LightGray}{3} & billet, courtney, 0.075963 \\\\\n",
      "textcolor{LightGray}{4} & routh, jennifer, 0.064585 \\\\\n",
      "textcolor{LightGray}{5} & stover, kathy, 0.061403 \\\\\n",
      "textcolor{LightGray}{6} & marston, hilary, 0.055949 \\\\\n",
      "textcolor{LightGray}{7} & haskins, melinda, 0.043622 \\\\\n",
      "textcolor{LightGray}{8} & tabak, lawrence, 0.043443 \\\\\n",
      "textcolor{LightGray}{9} & fauci, anthony, 0.037472 \\\\\n",
      "textcolor{LightGray}{10} & mascola, john, 0.034682 \\\\\n"
     ]
    }
   ],
   "source": [
    "# Latex for table in write-up\n",
    "sp = np.argsort(-x_curr)\n",
    "top_n = 10\n",
    "for (i, ind) in enumerate(sp[:top_n]):\n",
    "    print(f'textcolor{{LightGray}}{{{i + 1}}} & {names[ind]}, {x_curr[ind]:.6f} \\\\\\\\')"
   ]
  },
  {
   "cell_type": "code",
   "execution_count": null,
   "metadata": {},
   "outputs": [],
   "source": []
  }
 ],
 "metadata": {
  "kernelspec": {
   "display_name": "Python 3",
   "language": "python",
   "name": "python3"
  },
  "language_info": {
   "codemirror_mode": {
    "name": "ipython",
    "version": 3
   },
   "file_extension": ".py",
   "mimetype": "text/x-python",
   "name": "python",
   "nbconvert_exporter": "python",
   "pygments_lexer": "ipython3",
   "version": "3.8.2"
  }
 },
 "nbformat": 4,
 "nbformat_minor": 4
}
