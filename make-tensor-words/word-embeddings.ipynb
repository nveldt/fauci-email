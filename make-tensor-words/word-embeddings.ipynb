{
 "cells": [
  {
   "cell_type": "code",
   "execution_count": 5,
   "metadata": {},
   "outputs": [],
   "source": [
    "import json\n",
    "import gensim\n",
    "from gensim.utils import tokenize\n",
    "from gensim.parsing.preprocessing import preprocess_string, remove_stopwords, stem_text, strip_multiple_whitespaces, strip_tags, strip_short, strip_punctuation\n",
    "from gensim.models import Word2Vec\n",
    "from gensim.models.doc2vec import Doc2Vec, TaggedDocument\n",
    "from string import ascii_lowercase\n",
    "import numpy as np\n",
    "import copy"
   ]
  },
  {
   "cell_type": "code",
   "execution_count": 6,
   "metadata": {},
   "outputs": [],
   "source": [
    "with open(\"../fauci-email-data.json\") as f:\n",
    "    data = json.loads(f.read())"
   ]
  },
  {
   "cell_type": "code",
   "execution_count": 7,
   "metadata": {},
   "outputs": [],
   "source": [
    "stem_replacement_dict = {\n",
    "    \"fauc\": \"fauci\",\n",
    "    \"covi\": \"covid\",\n",
    "    \"coro\": \"corona\",\n",
    "    \"coron\": \"corona\",\n",
    "    \"corona\": \"corona\",\n",
    "    \"coronav\": \"coronavirus\",\n",
    "    \"coronavi\": \"coronavirus\",\n",
    "    \"coronavir\": \"coronavirus\",\n",
    "    \"coronavirn\": \"coronavirus\",\n",
    "    \"coronaviru\": \"coronavirus\",\n",
    "    \"coronavirus\": \"coronavirus\",\n",
    "    \"coronoviru\": \"coronavirus\",\n",
    "    \"covtd\": \"covid\",\n",
    "    \"econom\": \"economi\",\n",
    "    \"editori\": \"editoria\",\n",
    "    \"edito\": \"editor\",\n",
    "    \"forwa\": \"forward\",\n",
    "    \"globa\": \"global\",\n",
    "    \"healt\": \"health\",\n",
    "    \"instit\": \"institut\",\n",
    "    \"institu\": \"institut\",\n",
    "    \"internationa\": \"internation\",\n",
    "    \"interviewon\": \"interview\",\n",
    "    \"lnstagram\": \"instagram\",\n",
    "    \"orig\": \"origin\",\n",
    "    \"origi\": \"origin\",\n",
    "    \"quarant\": \"quarantin\",\n",
    "    \"reat\": \"treat\",\n",
    "    \"reatment\": \"treatment\",\n",
    "    \"strateg\": \"strategi\",\n",
    "    \"wro\": \"wrote\",\n",
    "    \"wrot\": \"wrote\",\n",
    "    \"iaid\": \"niaid\",\n",
    "    \"viru\": \"virus\",\n",
    "    \"foryour\": \"your\",\n",
    "    \"nlaid\": \"niaid\"\n",
    "}\n",
    "\n",
    "def dedup_replace(word): return stem_replacement_dict.get(word, word)"
   ]
  },
  {
   "cell_type": "code",
   "execution_count": 8,
   "metadata": {},
   "outputs": [],
   "source": [
    "filters = [strip_tags,\n",
    "           strip_punctuation,\n",
    "           strip_multiple_whitespaces, \n",
    "           remove_stopwords, \n",
    "           strip_short, \n",
    "           stem_text]\n",
    "\n",
    "def clean_text(input_text):\n",
    "    cleaned_sentences = []\n",
    "    \n",
    "    for sentence in input_text.split(\"\\n\"):\n",
    "        tokenized = \" \".join(list(tokenize(sentence, lowercase=True)))\n",
    "        processed_str = preprocess_string(tokenized) #, filters)\n",
    "        if len(processed_str) > 0:\n",
    "            cleaned_sentences.append([dedup_replace(w) for w in processed_str])\n",
    "    return cleaned_sentences"
   ]
  },
  {
   "cell_type": "code",
   "execution_count": 9,
   "metadata": {},
   "outputs": [],
   "source": [
    "emails = data[\"emails\"]"
   ]
  },
  {
   "cell_type": "code",
   "execution_count": 10,
   "metadata": {},
   "outputs": [],
   "source": [
    "all_text = []\n",
    "for (i, chain) in enumerate(emails):\n",
    "    for email in chain:\n",
    "        clean_subj = clean_text(email[\"subject\"])\n",
    "        email[\"clean_subj\"] = clean_subj\n",
    "        if len(clean_subj) > 0:\n",
    "            for cs in clean_subj:\n",
    "                all_text.append(cs)\n",
    "\n",
    "        clean_body = clean_text(email[\"body\"])\n",
    "        email[\"clean_body\"] = clean_body\n",
    "        if len(clean_body) > 0:\n",
    "            for cb in clean_body:\n",
    "                all_text.append(cb)"
   ]
  },
  {
   "cell_type": "code",
   "execution_count": 11,
   "metadata": {},
   "outputs": [],
   "source": [
    "#model = Word2Vec(all_text, vector_size=50, min_count=10) # pretty good!\n",
    "model = Word2Vec(all_text, vector_size=32, min_count=12,\n",
    "                 alpha=0.025, min_alpha=0.0001,\n",
    "                 epochs=8,\n",
    "                 compute_loss=True\n",
    "                 )\n",
    "#len(model.wv)\n",
    "#model.get_latest_training_loss() / 1e6"
   ]
  },
  {
   "cell_type": "code",
   "execution_count": 12,
   "metadata": {},
   "outputs": [],
   "source": [
    "model.save('fauci-email-w2v.model')"
   ]
  },
  {
   "cell_type": "code",
   "execution_count": 13,
   "metadata": {},
   "outputs": [
    {
     "data": {
      "text/plain": [
       "[('toni', 0.8493401408195496),\n",
       " ('franci', 0.8412538170814514),\n",
       " ('david', 0.8198693990707397),\n",
       " ('colleagu', 0.7967791557312012),\n",
       " ('rubenstein', 0.7939940690994263),\n",
       " ('cnni', 0.7893975377082825),\n",
       " ('collin', 0.7886248230934143),\n",
       " ('eli', 0.7831961512565613),\n",
       " ('sir', 0.7811444401741028),\n",
       " ('renat', 0.7785160541534424)]"
      ]
     },
     "execution_count": 13,
     "metadata": {},
     "output_type": "execute_result"
    }
   ],
   "source": [
    "model.wv.most_similar(\"fauci\")"
   ]
  },
  {
   "cell_type": "code",
   "execution_count": 14,
   "metadata": {},
   "outputs": [
    {
     "data": {
      "text/plain": [
       "[('donald', 0.9098467826843262),\n",
       " ('prof', 0.9026286005973816),\n",
       " ('head', 0.8996578454971313),\n",
       " ('fellow', 0.8890562057495117),\n",
       " ('doctor', 0.8698291182518005),\n",
       " ('award', 0.8622108101844788),\n",
       " ('cet', 0.861404299736023),\n",
       " ('alex', 0.8610497117042542),\n",
       " ('hall', 0.8596192598342896),\n",
       " ('richard', 0.8551174998283386)]"
      ]
     },
     "execution_count": 14,
     "metadata": {},
     "output_type": "execute_result"
    }
   ],
   "source": [
    "model.wv.most_similar(\"trump\")"
   ]
  },
  {
   "cell_type": "code",
   "execution_count": 15,
   "metadata": {},
   "outputs": [
    {
     "data": {
      "text/plain": [
       "[('vice', 0.8999403715133667),\n",
       " ('execut', 0.8972741365432739),\n",
       " ('senior', 0.8835725784301758),\n",
       " ('deputi', 0.87000572681427),\n",
       " ('chief', 0.8657837510108948),\n",
       " ('director', 0.8408812284469604),\n",
       " ('polici', 0.8401379585266113),\n",
       " ('harvard', 0.8221364617347717),\n",
       " ('affair', 0.8180564641952515),\n",
       " ('trump', 0.8175964951515198)]"
      ]
     },
     "execution_count": 15,
     "metadata": {},
     "output_type": "execute_result"
    }
   ],
   "source": [
    "model.wv.most_similar(\"presid\")"
   ]
  },
  {
   "cell_type": "code",
   "execution_count": 16,
   "metadata": {},
   "outputs": [
    {
     "data": {
      "text/plain": [
       "[('treatment', 0.8399640321731567),\n",
       " ('develop', 0.8345067501068115),\n",
       " ('phase', 0.8297527432441711),\n",
       " ('ncov', 0.8125050067901611),\n",
       " ('antibodi', 0.8106117844581604),\n",
       " ('strategi', 0.8037755489349365),\n",
       " ('influenza', 0.7999055981636047),\n",
       " ('guidelin', 0.7941806316375732),\n",
       " ('detect', 0.7752757668495178),\n",
       " ('effect', 0.7700123190879822)]"
      ]
     },
     "execution_count": 16,
     "metadata": {},
     "output_type": "execute_result"
    }
   ],
   "source": [
    "model.wv.most_similar(\"covid\")"
   ]
  },
  {
   "cell_type": "code",
   "execution_count": 17,
   "metadata": {},
   "outputs": [
    {
     "data": {
      "text/plain": [
       "[('googl', 0.983855664730072),\n",
       " ('youtub', 0.9806011915206909),\n",
       " ('nyt', 0.9786182641983032),\n",
       " ('nytim', 0.9775824546813965),\n",
       " ('facebook', 0.9739229679107666),\n",
       " ('url', 0.9703687429428101),\n",
       " ('pitt', 0.9648745059967041),\n",
       " ('figliola', 0.9643014669418335),\n",
       " ('net', 0.9618445038795471),\n",
       " ('doi', 0.9583131670951843)]"
      ]
     },
     "execution_count": 17,
     "metadata": {},
     "output_type": "execute_result"
    }
   ],
   "source": [
    "model.wv.most_similar(\"twitter\")"
   ]
  },
  {
   "cell_type": "code",
   "execution_count": 18,
   "metadata": {},
   "outputs": [],
   "source": [
    "words = sorted([w for w in model.wv.index_to_key])\n",
    "with open(\"words.txt\", \"w\") as f:\n",
    "    for word in words:\n",
    "        f.write(word)\n",
    "        f.write(\"\\n\")"
   ]
  },
  {
   "cell_type": "code",
   "execution_count": 19,
   "metadata": {},
   "outputs": [],
   "source": [
    "dim = len(model.wv[\"fauci\"])\n",
    "\n",
    "def mean_emb_vec(sentences):\n",
    "    all_words = [word for sentence in sentences for word in sentence]    \n",
    "    emb = np.zeros(dim)\n",
    "    num_words = 0\n",
    "    for word in all_words:\n",
    "        if word in model.wv:\n",
    "            emb += model.wv[word]        \n",
    "            num_words += 1\n",
    "            \n",
    "    if num_words == 0:\n",
    "        return emb\n",
    "    return emb / num_words\n",
    "\n",
    "\n",
    "for (i, chain) in enumerate(emails):\n",
    "    for email in chain:\n",
    "        email[\"subject_embedding\"] = list(mean_emb_vec(email[\"clean_subj\"]))\n",
    "        email[\"body_embedding\"] = list(mean_emb_vec(email[\"clean_body\"]))"
   ]
  },
  {
   "cell_type": "code",
   "execution_count": 20,
   "metadata": {},
   "outputs": [],
   "source": [
    "embedded_emails = []\n",
    "for chain in emails:\n",
    "    embedded_chain = []\n",
    "    for email in chain:\n",
    "        embedded_email = copy.copy(email)\n",
    "        del embedded_email[\"clean_subj\"]\n",
    "        del embedded_email[\"clean_body\"]\n",
    "        embedded_chain.append(embedded_email)\n",
    "    embedded_emails.append(embedded_chain)"
   ]
  },
  {
   "cell_type": "code",
   "execution_count": 21,
   "metadata": {},
   "outputs": [],
   "source": [
    "data[\"emails\"] = embedded_emails"
   ]
  },
  {
   "cell_type": "code",
   "execution_count": 22,
   "metadata": {},
   "outputs": [],
   "source": [
    "num_nodes = len(data[\"names\"])\n",
    "X_subj_sender = np.zeros((dim, num_nodes))\n",
    "X_body_sender = np.zeros((dim, num_nodes))\n",
    "X_subj_recip  = np.zeros((dim, num_nodes))\n",
    "X_body_recip  = np.zeros((dim, num_nodes))\n",
    "X_subj_cc     = np.zeros((dim, num_nodes))\n",
    "X_body_cc     = np.zeros((dim, num_nodes))"
   ]
  },
  {
   "cell_type": "code",
   "execution_count": 23,
   "metadata": {},
   "outputs": [],
   "source": [
    "sender_counts = np.zeros(num_nodes)\n",
    "recip_counts = np.zeros(num_nodes)\n",
    "cc_counts = np.zeros(num_nodes)"
   ]
  },
  {
   "cell_type": "code",
   "execution_count": 24,
   "metadata": {},
   "outputs": [],
   "source": [
    "for chain in embedded_emails:\n",
    "    for email in chain:\n",
    "        subj_emb = email['subject_embedding']\n",
    "        body_emb = email['body_embedding']\n",
    "        \n",
    "        sender = email['sender']\n",
    "        X_subj_sender[:, sender] += subj_emb\n",
    "        X_body_sender[:, sender] += body_emb\n",
    "        sender_counts[sender] += 1\n",
    "        \n",
    "        for recip in email['recipients']:\n",
    "            X_subj_recip[:, recip] += subj_emb\n",
    "            X_body_recip[:, recip] += body_emb\n",
    "            recip_counts[recip] += 1\n",
    "        \n",
    "        for cc in email['cc']:\n",
    "            X_subj_cc[:, cc] += subj_emb\n",
    "            X_body_cc[:, cc] += body_emb\n",
    "            cc_counts[cc] += 1"
   ]
  },
  {
   "cell_type": "code",
   "execution_count": 25,
   "metadata": {},
   "outputs": [],
   "source": [
    "for j in range(num_nodes):\n",
    "    if sender_counts[j] > 0:\n",
    "        X_subj_sender[:, j] /= sender_counts[j]\n",
    "        X_body_sender[:, j] /= sender_counts[j]\n",
    "    if recip_counts[j] > 0:\n",
    "        X_subj_recip[:, j] /= recip_counts[j]\n",
    "        X_body_recip[:, j] /= recip_counts[j]\n",
    "    if cc_counts[j] > 0:\n",
    "        X_subj_cc[:, j] /= cc_counts[j]\n",
    "        X_body_cc[:, j] /= cc_counts[j]\n",
    "        \n",
    "X = np.vstack((X_subj_sender, X_body_sender,\n",
    "               X_subj_recip, X_body_recip,\n",
    "               X_subj_cc, X_body_cc))\n",
    "\n",
    "data['node_features'] = [list(X[:, j]) for j in range(num_nodes)]"
   ]
  },
  {
   "cell_type": "code",
   "execution_count": 26,
   "metadata": {},
   "outputs": [],
   "source": [
    "with open('fauci-email-graph-w2v.json', 'w') as f:\n",
    "    json.dump(data, f)"
   ]
  }
 ],
 "metadata": {
  "kernelspec": {
   "display_name": "Python 3 (ipykernel)",
   "language": "python",
   "name": "python3"
  },
  "language_info": {
   "codemirror_mode": {
    "name": "ipython",
    "version": 3
   },
   "file_extension": ".py",
   "mimetype": "text/x-python",
   "name": "python",
   "nbconvert_exporter": "python",
   "pygments_lexer": "ipython3",
   "version": "3.9.5"
  }
 },
 "nbformat": 4,
 "nbformat_minor": 4
}
